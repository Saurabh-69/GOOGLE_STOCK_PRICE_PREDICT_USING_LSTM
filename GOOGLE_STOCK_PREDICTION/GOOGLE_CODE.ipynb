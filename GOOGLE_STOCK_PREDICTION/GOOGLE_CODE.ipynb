{
 "cells": [
  {
   "cell_type": "markdown",
   "metadata": {},
   "source": [
    "# THIS CODE PREDICTS THE GOOGLE STOCK PRICE"
   ]
  },
  {
   "cell_type": "code",
   "execution_count": 21,
   "metadata": {},
   "outputs": [],
   "source": [
    "import numpy as np \n",
    "import pandas as pd \n",
    "import matplotlib.pyplot as plt \n",
    "from sklearn.preprocessing import MinMaxScaler\n",
    "from keras.models import Sequential\n",
    "from keras.layers import Dense,LSTM,Dropout\n",
    "\n",
    "import warnings\n",
    "warnings.filterwarnings(\"ignore\")"
   ]
  },
  {
   "cell_type": "code",
   "execution_count": 22,
   "metadata": {},
   "outputs": [
    {
     "data": {
      "text/html": [
       "<div>\n",
       "<style scoped>\n",
       "    .dataframe tbody tr th:only-of-type {\n",
       "        vertical-align: middle;\n",
       "    }\n",
       "\n",
       "    .dataframe tbody tr th {\n",
       "        vertical-align: top;\n",
       "    }\n",
       "\n",
       "    .dataframe thead th {\n",
       "        text-align: right;\n",
       "    }\n",
       "</style>\n",
       "<table border=\"1\" class=\"dataframe\">\n",
       "  <thead>\n",
       "    <tr style=\"text-align: right;\">\n",
       "      <th></th>\n",
       "      <th>Date</th>\n",
       "      <th>Open</th>\n",
       "      <th>High</th>\n",
       "      <th>Low</th>\n",
       "      <th>Close</th>\n",
       "      <th>Volume</th>\n",
       "    </tr>\n",
       "  </thead>\n",
       "  <tbody>\n",
       "    <tr>\n",
       "      <th>0</th>\n",
       "      <td>1/3/2012</td>\n",
       "      <td>325.25</td>\n",
       "      <td>332.83</td>\n",
       "      <td>324.97</td>\n",
       "      <td>663.59</td>\n",
       "      <td>7,380,500</td>\n",
       "    </tr>\n",
       "    <tr>\n",
       "      <th>1</th>\n",
       "      <td>1/4/2012</td>\n",
       "      <td>331.27</td>\n",
       "      <td>333.87</td>\n",
       "      <td>329.08</td>\n",
       "      <td>666.45</td>\n",
       "      <td>5,749,400</td>\n",
       "    </tr>\n",
       "    <tr>\n",
       "      <th>2</th>\n",
       "      <td>1/5/2012</td>\n",
       "      <td>329.83</td>\n",
       "      <td>330.75</td>\n",
       "      <td>326.89</td>\n",
       "      <td>657.21</td>\n",
       "      <td>6,590,300</td>\n",
       "    </tr>\n",
       "    <tr>\n",
       "      <th>3</th>\n",
       "      <td>1/6/2012</td>\n",
       "      <td>328.34</td>\n",
       "      <td>328.77</td>\n",
       "      <td>323.68</td>\n",
       "      <td>648.24</td>\n",
       "      <td>5,405,900</td>\n",
       "    </tr>\n",
       "    <tr>\n",
       "      <th>4</th>\n",
       "      <td>1/9/2012</td>\n",
       "      <td>322.04</td>\n",
       "      <td>322.29</td>\n",
       "      <td>309.46</td>\n",
       "      <td>620.76</td>\n",
       "      <td>11,688,800</td>\n",
       "    </tr>\n",
       "  </tbody>\n",
       "</table>\n",
       "</div>"
      ],
      "text/plain": [
       "       Date    Open    High     Low   Close      Volume\n",
       "0  1/3/2012  325.25  332.83  324.97  663.59   7,380,500\n",
       "1  1/4/2012  331.27  333.87  329.08  666.45   5,749,400\n",
       "2  1/5/2012  329.83  330.75  326.89  657.21   6,590,300\n",
       "3  1/6/2012  328.34  328.77  323.68  648.24   5,405,900\n",
       "4  1/9/2012  322.04  322.29  309.46  620.76  11,688,800"
      ]
     },
     "execution_count": 22,
     "metadata": {},
     "output_type": "execute_result"
    }
   ],
   "source": [
    "data = pd.read_csv('Google_train_data.csv')\n",
    "data.head()"
   ]
  },
  {
   "cell_type": "code",
   "execution_count": 23,
   "metadata": {},
   "outputs": [
    {
     "name": "stdout",
     "output_type": "stream",
     "text": [
      "<class 'pandas.core.frame.DataFrame'>\n",
      "RangeIndex: 1258 entries, 0 to 1257\n",
      "Data columns (total 6 columns):\n",
      " #   Column  Non-Null Count  Dtype  \n",
      "---  ------  --------------  -----  \n",
      " 0   Date    1258 non-null   object \n",
      " 1   Open    1258 non-null   float64\n",
      " 2   High    1258 non-null   float64\n",
      " 3   Low     1258 non-null   float64\n",
      " 4   Close   1258 non-null   object \n",
      " 5   Volume  1258 non-null   object \n",
      "dtypes: float64(3), object(3)\n",
      "memory usage: 59.1+ KB\n"
     ]
    }
   ],
   "source": [
    "data.info()"
   ]
  },
  {
   "cell_type": "code",
   "execution_count": 24,
   "metadata": {},
   "outputs": [],
   "source": [
    "data[\"Close\"]=pd.to_numeric(data.Close,errors='coerce')\n",
    "data = data.dropna()\n",
    "trainData = data.iloc[:,4:5].values"
   ]
  },
  {
   "cell_type": "code",
   "execution_count": 25,
   "metadata": {},
   "outputs": [
    {
     "name": "stdout",
     "output_type": "stream",
     "text": [
      "<class 'pandas.core.frame.DataFrame'>\n",
      "Index: 1149 entries, 0 to 1257\n",
      "Data columns (total 6 columns):\n",
      " #   Column  Non-Null Count  Dtype  \n",
      "---  ------  --------------  -----  \n",
      " 0   Date    1149 non-null   object \n",
      " 1   Open    1149 non-null   float64\n",
      " 2   High    1149 non-null   float64\n",
      " 3   Low     1149 non-null   float64\n",
      " 4   Close   1149 non-null   float64\n",
      " 5   Volume  1149 non-null   object \n",
      "dtypes: float64(4), object(2)\n",
      "memory usage: 62.8+ KB\n"
     ]
    }
   ],
   "source": [
    "data.info()"
   ]
  },
  {
   "cell_type": "code",
   "execution_count": 26,
   "metadata": {},
   "outputs": [
    {
     "data": {
      "text/plain": [
       "(1149, 1)"
      ]
     },
     "execution_count": 26,
     "metadata": {},
     "output_type": "execute_result"
    }
   ],
   "source": [
    "sc = MinMaxScaler(feature_range=(0,1))\n",
    "trainData = sc.fit_transform(trainData)\n",
    "trainData.shape"
   ]
  },
  {
   "cell_type": "code",
   "execution_count": 27,
   "metadata": {},
   "outputs": [],
   "source": [
    "X_train = []\n",
    "y_train = []\n",
    "\n",
    "for i in range (60,1149): #60 : timestep // 1149 : length of the data\n",
    "    X_train.append(trainData[i-60:i,0]) \n",
    "    y_train.append(trainData[i,0])\n",
    "\n",
    "X_train,y_train = np.array(X_train),np.array(y_train)"
   ]
  },
  {
   "cell_type": "code",
   "execution_count": 28,
   "metadata": {},
   "outputs": [
    {
     "data": {
      "text/plain": [
       "(1089, 60, 1)"
      ]
     },
     "execution_count": 28,
     "metadata": {},
     "output_type": "execute_result"
    }
   ],
   "source": [
    "X_train = np.reshape(X_train,(X_train.shape[0],X_train.shape[1],1)) #adding the batch_size axis\n",
    "X_train.shape"
   ]
  },
  {
   "cell_type": "code",
   "execution_count": 29,
   "metadata": {},
   "outputs": [],
   "source": [
    "model = Sequential()\n",
    "\n",
    "model.add(LSTM(units=100, return_sequences = True, input_shape =(X_train.shape[1],1)))\n",
    "model.add(Dropout(0.2))\n",
    "\n",
    "model.add(LSTM(units=100, return_sequences = True))\n",
    "model.add(Dropout(0.2))\n",
    "\n",
    "model.add(LSTM(units=100, return_sequences = True))\n",
    "model.add(Dropout(0.2))\n",
    "\n",
    "model.add(LSTM(units=100, return_sequences = False))\n",
    "model.add(Dropout(0.2))\n",
    "\n",
    "model.add(Dense(units =1))\n",
    "model.compile(optimizer='adam',loss=\"mean_squared_error\")"
   ]
  },
  {
   "cell_type": "code",
   "execution_count": 30,
   "metadata": {},
   "outputs": [
    {
     "name": "stdout",
     "output_type": "stream",
     "text": [
      "Epoch 1/20\n",
      "35/35 - 20s - 575ms/step - loss: 0.0305\n",
      "Epoch 2/20\n",
      "35/35 - 6s - 168ms/step - loss: 0.0126\n",
      "Epoch 3/20\n",
      "35/35 - 6s - 165ms/step - loss: 0.0118\n",
      "Epoch 4/20\n",
      "35/35 - 6s - 171ms/step - loss: 0.0078\n",
      "Epoch 5/20\n",
      "35/35 - 6s - 168ms/step - loss: 0.0073\n",
      "Epoch 6/20\n",
      "35/35 - 6s - 172ms/step - loss: 0.0086\n",
      "Epoch 7/20\n",
      "35/35 - 6s - 173ms/step - loss: 0.0093\n",
      "Epoch 8/20\n",
      "35/35 - 6s - 168ms/step - loss: 0.0068\n",
      "Epoch 9/20\n",
      "35/35 - 6s - 173ms/step - loss: 0.0086\n",
      "Epoch 10/20\n",
      "35/35 - 6s - 174ms/step - loss: 0.0061\n",
      "Epoch 11/20\n",
      "35/35 - 6s - 162ms/step - loss: 0.0063\n",
      "Epoch 12/20\n",
      "35/35 - 6s - 165ms/step - loss: 0.0056\n",
      "Epoch 13/20\n",
      "35/35 - 6s - 158ms/step - loss: 0.0058\n",
      "Epoch 14/20\n",
      "35/35 - 5s - 150ms/step - loss: 0.0059\n",
      "Epoch 15/20\n",
      "35/35 - 6s - 161ms/step - loss: 0.0049\n",
      "Epoch 16/20\n",
      "35/35 - 6s - 165ms/step - loss: 0.0048\n",
      "Epoch 17/20\n",
      "35/35 - 6s - 170ms/step - loss: 0.0047\n",
      "Epoch 18/20\n",
      "35/35 - 6s - 168ms/step - loss: 0.0048\n",
      "Epoch 19/20\n",
      "35/35 - 6s - 167ms/step - loss: 0.0061\n",
      "Epoch 20/20\n",
      "35/35 - 6s - 158ms/step - loss: 0.0049\n"
     ]
    }
   ],
   "source": [
    "hist = model.fit(X_train, y_train, epochs = 20, batch_size = 32, verbose=2)"
   ]
  },
  {
   "cell_type": "code",
   "execution_count": 31,
   "metadata": {},
   "outputs": [
    {
     "data": {
      "image/png": "[encoded data removed]",
      "text/plain": [
       "<Figure size 640x480 with 1 Axes>"
      ]
     },
     "metadata": {},
     "output_type": "display_data"
    }
   ],
   "source": [
    "plt.plot(hist.history['loss'])\n",
    "plt.title('Training model loss')\n",
    "plt.ylabel('loss')\n",
    "plt.xlabel('epoch')\n",
    "plt.legend(['train'], loc='upper left')\n",
    "plt.show()"
   ]
  },
  {
   "cell_type": "code",
   "execution_count": 32,
   "metadata": {},
   "outputs": [
    {
     "data": {
      "text/plain": [
       "(192, 60, 1)"
      ]
     },
     "execution_count": 32,
     "metadata": {},
     "output_type": "execute_result"
    }
   ],
   "source": [
    "testData = pd.read_csv('Google_test_data.csv')\n",
    "testData[\"Close\"]=pd.to_numeric(testData.Close,errors='coerce')\n",
    "testData = testData.dropna()\n",
    "testData = testData.iloc[:,4:5]\n",
    "y_test = testData.iloc[60:,0:].values \n",
    "#input array for the model\n",
    "inputClosing = testData.iloc[:,0:].values \n",
    "inputClosing_scaled = sc.transform(inputClosing)\n",
    "inputClosing_scaled.shape\n",
    "X_test = []\n",
    "length = len(testData)\n",
    "timestep = 60\n",
    "for i in range(timestep,length):  \n",
    "    X_test.append(inputClosing_scaled[i-timestep:i,0])\n",
    "X_test = np.array(X_test)\n",
    "X_test = np.reshape(X_test,(X_test.shape[0],X_test.shape[1],1))\n",
    "X_test.shape"
   ]
  },
  {
   "cell_type": "code",
   "execution_count": 33,
   "metadata": {},
   "outputs": [
    {
     "name": "stdout",
     "output_type": "stream",
     "text": [
      "\u001b[1m6/6\u001b[0m \u001b[32m━━━━━━━━━━━━━━━━━━━━\u001b[0m\u001b[37m\u001b[0m \u001b[1m2s\u001b[0m 70ms/step\n"
     ]
    },
    {
     "data": {
      "text/plain": [
       "array([[1.1497905],\n",
       "       [1.1544507],\n",
       "       [1.1664169],\n",
       "       [1.1836593],\n",
       "       [1.1966356],\n",
       "       [1.193974 ],\n",
       "       [1.1764033],\n",
       "       [1.1538314],\n",
       "       [1.1399827],\n",
       "       [1.1379824],\n",
       "       [1.1343116],\n",
       "       [1.125791 ],\n",
       "       [1.1175665],\n",
       "       [1.1096903],\n",
       "       [1.1091362],\n",
       "       [1.1155608],\n",
       "       [1.1360158],\n",
       "       [1.1670079],\n",
       "       [1.2009361],\n",
       "       [1.2324257],\n",
       "       [1.2415532],\n",
       "       [1.2315431],\n",
       "       [1.2035106],\n",
       "       [1.1680533],\n",
       "       [1.1390843],\n",
       "       [1.1261592],\n",
       "       [1.128562 ],\n",
       "       [1.1353993],\n",
       "       [1.1336638],\n",
       "       [1.1250179],\n",
       "       [1.1129837],\n",
       "       [1.0983586],\n",
       "       [1.0766306],\n",
       "       [1.0500602],\n",
       "       [1.0397441],\n",
       "       [1.0520458],\n",
       "       [1.0787426],\n",
       "       [1.1077853],\n",
       "       [1.1327666],\n",
       "       [1.1425867],\n",
       "       [1.1503094],\n",
       "       [1.1608877],\n",
       "       [1.1752754],\n",
       "       [1.1897162],\n",
       "       [1.1993213],\n",
       "       [1.1990083],\n",
       "       [1.1869044],\n",
       "       [1.1762347],\n",
       "       [1.1741081],\n",
       "       [1.1825128],\n",
       "       [1.1994177],\n",
       "       [1.2115705],\n",
       "       [1.2150989],\n",
       "       [1.2110634],\n",
       "       [1.2076348],\n",
       "       [1.2026258],\n",
       "       [1.193409 ],\n",
       "       [1.1889668],\n",
       "       [1.1991041],\n",
       "       [1.2197512],\n",
       "       [1.2483456],\n",
       "       [1.2809023],\n",
       "       [1.3016915],\n",
       "       [1.3012897],\n",
       "       [1.2829452],\n",
       "       [1.2567174],\n",
       "       [1.2394172],\n",
       "       [1.2357976],\n",
       "       [1.2432148],\n",
       "       [1.253492 ],\n",
       "       [1.2626693],\n",
       "       [1.2675562],\n",
       "       [1.2634513],\n",
       "       [1.2560304],\n",
       "       [1.2494686],\n",
       "       [1.2472613],\n",
       "       [1.2495676],\n",
       "       [1.2554762],\n",
       "       [1.268306 ],\n",
       "       [1.2870847],\n",
       "       [1.310494 ],\n",
       "       [1.3318326],\n",
       "       [1.3420422],\n",
       "       [1.3399605],\n",
       "       [1.339271 ],\n",
       "       [1.3492105],\n",
       "       [1.3671752],\n",
       "       [1.3837723],\n",
       "       [1.393111 ],\n",
       "       [1.3943875],\n",
       "       [1.3942919],\n",
       "       [1.402744 ],\n",
       "       [1.4205267],\n",
       "       [1.4335164],\n",
       "       [1.4325875],\n",
       "       [1.4176713],\n",
       "       [1.392951 ],\n",
       "       [1.3658086],\n",
       "       [1.3450184],\n",
       "       [1.3404629],\n",
       "       [1.3522047],\n",
       "       [1.3741612],\n",
       "       [1.3999622],\n",
       "       [1.4200712],\n",
       "       [1.4294028],\n",
       "       [1.4269364],\n",
       "       [1.4183916],\n",
       "       [1.409704 ],\n",
       "       [1.4077475],\n",
       "       [1.4132817],\n",
       "       [1.4244167],\n",
       "       [1.4393185],\n",
       "       [1.4536368],\n",
       "       [1.4675198],\n",
       "       [1.4835873],\n",
       "       [1.4964675],\n",
       "       [1.5053352],\n",
       "       [1.51238  ],\n",
       "       [1.5221798],\n",
       "       [1.5027632],\n",
       "       [1.4516393],\n",
       "       [1.3871266],\n",
       "       [1.3372638],\n",
       "       [1.3148564],\n",
       "       [1.313325 ],\n",
       "       [1.3211247],\n",
       "       [1.3295037],\n",
       "       [1.3356135],\n",
       "       [1.3300486],\n",
       "       [1.3115888],\n",
       "       [1.2998269],\n",
       "       [1.3054845],\n",
       "       [1.3203305],\n",
       "       [1.3288599],\n",
       "       [1.3297279],\n",
       "       [1.3262123],\n",
       "       [1.3187059],\n",
       "       [1.3076352],\n",
       "       [1.2961233],\n",
       "       [1.282196 ],\n",
       "       [1.2683693],\n",
       "       [1.2537628],\n",
       "       [1.2220951],\n",
       "       [1.1824071],\n",
       "       [1.1441667],\n",
       "       [1.1161947],\n",
       "       [1.1076937],\n",
       "       [1.1208897],\n",
       "       [1.1476622],\n",
       "       [1.1766249],\n",
       "       [1.2023615],\n",
       "       [1.2202573],\n",
       "       [1.2308662],\n",
       "       [1.2383666],\n",
       "       [1.243773 ],\n",
       "       [1.2493396],\n",
       "       [1.2575403],\n",
       "       [1.2652487],\n",
       "       [1.2621529],\n",
       "       [1.2466515],\n",
       "       [1.2238158],\n",
       "       [1.2025355],\n",
       "       [1.1928829],\n",
       "       [1.1994252],\n",
       "       [1.2201488],\n",
       "       [1.2493081],\n",
       "       [1.2738949],\n",
       "       [1.2896209],\n",
       "       [1.3004571],\n",
       "       [1.3090954],\n",
       "       [1.3157818],\n",
       "       [1.3213177],\n",
       "       [1.3261255],\n",
       "       [1.3275721],\n",
       "       [1.3254002],\n",
       "       [1.3164502],\n",
       "       [1.3053943],\n",
       "       [1.2985759],\n",
       "       [1.2953287],\n",
       "       [1.2928402],\n",
       "       [1.3231212],\n",
       "       [1.3793473],\n",
       "       [1.4359137],\n",
       "       [1.4719516],\n",
       "       [1.4804304],\n",
       "       [1.4636548],\n",
       "       [1.4215472],\n",
       "       [1.3744518],\n",
       "       [1.3388826],\n",
       "       [1.3300947],\n",
       "       [1.340109 ],\n",
       "       [1.3538878]], dtype=float32)"
      ]
     },
     "execution_count": 33,
     "metadata": {},
     "output_type": "execute_result"
    }
   ],
   "source": [
    "y_pred = model.predict(X_test)\n",
    "y_pred"
   ]
  },
  {
   "cell_type": "code",
   "execution_count": 36,
   "metadata": {},
   "outputs": [],
   "source": [
    "predicted_price = sc.inverse_transform(y_pred)"
   ]
  },
  {
   "cell_type": "code",
   "execution_count": 37,
   "metadata": {},
   "outputs": [
    {
     "data": {
      "image/png": "[encoded data removed]",
      "text/plain": [
       "<Figure size 640x480 with 1 Axes>"
      ]
     },
     "metadata": {},
     "output_type": "display_data"
    }
   ],
   "source": [
    "plt.plot(y_test, color = 'red', label = 'Actual Stock Price')\n",
    "plt.plot(predicted_price, color = 'green', label = 'Predicted Stock Price')\n",
    "plt.title('Google stock price prediction')\n",
    "plt.xlabel('Time')\n",
    "plt.ylabel('Stock Price')\n",
    "plt.legend()\n",
    "plt.show()"
   ]
  },
  {
   "cell_type": "code",
   "execution_count": null,
   "metadata": {},
   "outputs": [],
   "source": []
  }
 ],
 "metadata": {
  "kernelspec": {
   "display_name": "Python 3 (ipykernel)",
   "language": "python",
   "name": "python3"
  },
  "language_info": {
   "codemirror_mode": {
    "name": "ipython",
    "version": 3
   },
   "file_extension": ".py",
   "mimetype": "text/x-python",
   "name": "python",
   "nbconvert_exporter": "python",
   "pygments_lexer": "ipython3",
   "version": "3.11.7"
  }
 },
 "nbformat": 4,
 "nbformat_minor": 4
}
